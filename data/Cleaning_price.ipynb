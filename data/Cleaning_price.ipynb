{
 "cells": [
  {
   "cell_type": "code",
   "execution_count": 48,
   "id": "e24b5274-692f-4031-b7a6-d30a7e2f0901",
   "metadata": {},
   "outputs": [],
   "source": [
    "import pandas as pd"
   ]
  },
  {
   "cell_type": "code",
   "execution_count": 72,
   "id": "a5842888-462d-4fda-80d7-b14be7f26f4e",
   "metadata": {},
   "outputs": [],
   "source": [
    "products = pd.read_csv('data/eniac/products.csv')"
   ]
  },
  {
   "cell_type": "code",
   "execution_count": 50,
   "id": "9b76ca82-16ce-43a4-8d10-33f0f234000c",
   "metadata": {},
   "outputs": [
    {
     "name": "stdout",
     "output_type": "stream",
     "text": [
      "<class 'pandas.core.frame.DataFrame'>\n",
      "RangeIndex: 19326 entries, 0 to 19325\n",
      "Data columns (total 7 columns):\n",
      " #   Column       Non-Null Count  Dtype \n",
      "---  ------       --------------  ----- \n",
      " 0   sku          19326 non-null  object\n",
      " 1   name         19326 non-null  object\n",
      " 2   desc         19319 non-null  object\n",
      " 3   price        19280 non-null  object\n",
      " 4   promo_price  19326 non-null  object\n",
      " 5   in_stock     19326 non-null  int64 \n",
      " 6   type         19276 non-null  object\n",
      "dtypes: int64(1), object(6)\n",
      "memory usage: 1.0+ MB\n"
     ]
    }
   ],
   "source": [
    "products.info()"
   ]
  },
  {
   "cell_type": "markdown",
   "id": "53b824d5-2d20-414f-80f5-549772cfe0f4",
   "metadata": {},
   "source": [
    "![image](discounts.png)"
   ]
  },
  {
   "cell_type": "code",
   "execution_count": 62,
   "id": "4a8564e4-a639-417c-aa1b-6bddcc3c5678",
   "metadata": {},
   "outputs": [],
   "source": [
    "products.drop('promo_price',axis=1,inplace=True)"
   ]
  },
  {
   "cell_type": "code",
   "execution_count": 63,
   "id": "dcc93a58-21f5-4a92-9a85-ce57c4da08f3",
   "metadata": {},
   "outputs": [
    {
     "data": {
      "text/plain": [
       "19326"
      ]
     },
     "execution_count": 63,
     "metadata": {},
     "output_type": "execute_result"
    }
   ],
   "source": [
    "number_of_products = products.shape[0]\n",
    "number_of_products"
   ]
  },
  {
   "cell_type": "markdown",
   "id": "9ccd256a-e426-4296-911c-6e45b48ad8e3",
   "metadata": {},
   "source": [
    "**Products with NaN price**"
   ]
  },
  {
   "cell_type": "code",
   "execution_count": 64,
   "id": "d1d6b3f3-0968-417c-8815-4daa70667b54",
   "metadata": {},
   "outputs": [
    {
     "data": {
      "text/plain": [
       "46"
      ]
     },
     "execution_count": 64,
     "metadata": {},
     "output_type": "execute_result"
    }
   ],
   "source": [
    "number_of_nan_price = products['price'].isna().sum()\n",
    "number_of_nan_price"
   ]
  },
  {
   "cell_type": "markdown",
   "id": "c2b8f621-ee84-4c5c-8994-61764b58c20a",
   "metadata": {},
   "source": [
    "**Products with 2 dots(12.123.125) and products with 3 decimals (12.568)**"
   ]
  },
  {
   "cell_type": "code",
   "execution_count": 65,
   "id": "1417a7b4-655e-473b-abb0-a430436ba850",
   "metadata": {},
   "outputs": [
    {
     "data": {
      "text/plain": [
       "596"
      ]
     },
     "execution_count": 65,
     "metadata": {},
     "output_type": "execute_result"
    }
   ],
   "source": [
    "number_of_2dot_3dec_price = products.loc[ ((products['price'].str.count('\\.') == 2) | (products['price'].str[-4] == '.')),:].shape[0]\n",
    "number_of_2dot_3dec_price"
   ]
  },
  {
   "cell_type": "code",
   "execution_count": 55,
   "id": "92a55eef-5397-44f7-bbe0-8e94119f60bc",
   "metadata": {},
   "outputs": [
    {
     "data": {
      "text/plain": [
       "642"
      ]
     },
     "execution_count": 55,
     "metadata": {},
     "output_type": "execute_result"
    }
   ],
   "source": [
    "drop_products = number_of_nan_price + number_of_2dot_price\n",
    "drop_products"
   ]
  },
  {
   "cell_type": "code",
   "execution_count": 56,
   "id": "c3280169-4398-45b2-aebd-d59a11664ff6",
   "metadata": {},
   "outputs": [
    {
     "data": {
      "text/plain": [
       "3.32194970506054"
      ]
     },
     "execution_count": 56,
     "metadata": {},
     "output_type": "execute_result"
    }
   ],
   "source": [
    "percentage = drop_products / number_of_products * 100\n",
    "percentage"
   ]
  },
  {
   "cell_type": "code",
   "execution_count": 57,
   "id": "b2b98402-3813-40d1-b79c-23c146884aa5",
   "metadata": {},
   "outputs": [],
   "source": [
    "products['price'].dropna(inplace=True)"
   ]
  },
  {
   "cell_type": "code",
   "execution_count": 67,
   "id": "4d01c2ca-71ab-4baf-9860-ffd08aa2d98f",
   "metadata": {},
   "outputs": [],
   "source": [
    "products = products.loc[ ~((products['price'].str.count('\\.') == 2) | (products['price'].str[-4] == '.')),:]"
   ]
  },
  {
   "cell_type": "code",
   "execution_count": 68,
   "id": "c4a8c05f-8cc1-4343-8303-f4183e52d583",
   "metadata": {},
   "outputs": [
    {
     "data": {
      "text/plain": [
       "18730"
      ]
     },
     "execution_count": 68,
     "metadata": {},
     "output_type": "execute_result"
    }
   ],
   "source": [
    "products.shape[0]"
   ]
  },
  {
   "cell_type": "code",
   "execution_count": 74,
   "id": "de8dc08a-7f4a-4f6c-9bbd-29c88209893d",
   "metadata": {},
   "outputs": [
    {
     "data": {
      "text/html": [
       "<div>\n",
       "<style scoped>\n",
       "    .dataframe tbody tr th:only-of-type {\n",
       "        vertical-align: middle;\n",
       "    }\n",
       "\n",
       "    .dataframe tbody tr th {\n",
       "        vertical-align: top;\n",
       "    }\n",
       "\n",
       "    .dataframe thead th {\n",
       "        text-align: right;\n",
       "    }\n",
       "</style>\n",
       "<table border=\"1\" class=\"dataframe\">\n",
       "  <thead>\n",
       "    <tr style=\"text-align: right;\">\n",
       "      <th></th>\n",
       "      <th>sku</th>\n",
       "      <th>name</th>\n",
       "      <th>desc</th>\n",
       "      <th>price</th>\n",
       "      <th>promo_price</th>\n",
       "      <th>in_stock</th>\n",
       "      <th>type</th>\n",
       "    </tr>\n",
       "  </thead>\n",
       "  <tbody>\n",
       "    <tr>\n",
       "      <th>362</th>\n",
       "      <td>REP0043</td>\n",
       "      <td>Speaker lower repair iPhone 4</td>\n",
       "      <td>Repair service including parts and labor for i...</td>\n",
       "      <td>499.004</td>\n",
       "      <td>499.004</td>\n",
       "      <td>0</td>\n",
       "      <td>1,44E+11</td>\n",
       "    </tr>\n",
       "    <tr>\n",
       "      <th>480</th>\n",
       "      <td>PIE0011</td>\n",
       "      <td>Internal Battery for iPhone 3G</td>\n",
       "      <td>Replacement AC Adapter for Apple iPhone 3G.</td>\n",
       "      <td>98.978</td>\n",
       "      <td>98.978</td>\n",
       "      <td>0</td>\n",
       "      <td>21485407</td>\n",
       "    </tr>\n",
       "    <tr>\n",
       "      <th>515</th>\n",
       "      <td>SEN0061</td>\n",
       "      <td>Sennheiser EZX 80 Handsfree iPhone iPad and iP...</td>\n",
       "      <td>IPhone bluetooth headset with microphone iPad ...</td>\n",
       "      <td>649.891</td>\n",
       "      <td>649.891</td>\n",
       "      <td>0</td>\n",
       "      <td>5384</td>\n",
       "    </tr>\n",
       "    <tr>\n",
       "      <th>518</th>\n",
       "      <td>SEV0026</td>\n",
       "      <td>Service installation RAM + HDD + SSD MacBook /...</td>\n",
       "      <td>RAM + HDD installation + SSD in your MacBook /...</td>\n",
       "      <td>599.918</td>\n",
       "      <td>599.918</td>\n",
       "      <td>0</td>\n",
       "      <td>20642062</td>\n",
       "    </tr>\n",
       "    <tr>\n",
       "      <th>525</th>\n",
       "      <td>SEV0024</td>\n",
       "      <td>Service installation RAM + HDD + SSD Mac mini</td>\n",
       "      <td>installation RAM HDD + SSD + on your Mac mini ...</td>\n",
       "      <td>599.918</td>\n",
       "      <td>599.918</td>\n",
       "      <td>0</td>\n",
       "      <td>20642062</td>\n",
       "    </tr>\n",
       "    <tr>\n",
       "      <th>...</th>\n",
       "      <td>...</td>\n",
       "      <td>...</td>\n",
       "      <td>...</td>\n",
       "      <td>...</td>\n",
       "      <td>...</td>\n",
       "      <td>...</td>\n",
       "      <td>...</td>\n",
       "    </tr>\n",
       "    <tr>\n",
       "      <th>19312</th>\n",
       "      <td>REP0424</td>\n",
       "      <td>Input repair Headphones iPad</td>\n",
       "      <td>Repair service including parts and labor for iPad</td>\n",
       "      <td>6.999.003</td>\n",
       "      <td>69.99</td>\n",
       "      <td>0</td>\n",
       "      <td>1,44E+11</td>\n",
       "    </tr>\n",
       "    <tr>\n",
       "      <th>19313</th>\n",
       "      <td>REP0421</td>\n",
       "      <td>iPad charging connector repair</td>\n",
       "      <td>Repair service including parts and labor for iPad</td>\n",
       "      <td>6.999.003</td>\n",
       "      <td>69.99</td>\n",
       "      <td>0</td>\n",
       "      <td>1,44E+11</td>\n",
       "    </tr>\n",
       "    <tr>\n",
       "      <th>19314</th>\n",
       "      <td>REP0416</td>\n",
       "      <td>iPad front camera repair</td>\n",
       "      <td>Repair service including parts and labor for iPad</td>\n",
       "      <td>6.999.003</td>\n",
       "      <td>69.99</td>\n",
       "      <td>0</td>\n",
       "      <td>1,44E+11</td>\n",
       "    </tr>\n",
       "    <tr>\n",
       "      <th>19315</th>\n",
       "      <td>REP0413</td>\n",
       "      <td>repair rear camera iPad</td>\n",
       "      <td>Repair service including parts and labor for iPad</td>\n",
       "      <td>6.999.003</td>\n",
       "      <td>69.99</td>\n",
       "      <td>0</td>\n",
       "      <td>1,44E+11</td>\n",
       "    </tr>\n",
       "    <tr>\n",
       "      <th>19316</th>\n",
       "      <td>REP0407</td>\n",
       "      <td>iPad battery repair</td>\n",
       "      <td>Repair service including parts and labor for iPad</td>\n",
       "      <td>6.999.003</td>\n",
       "      <td>69.99</td>\n",
       "      <td>0</td>\n",
       "      <td>1,44E+11</td>\n",
       "    </tr>\n",
       "  </tbody>\n",
       "</table>\n",
       "<p>596 rows × 7 columns</p>\n",
       "</div>"
      ],
      "text/plain": [
       "           sku                                               name  \\\n",
       "362    REP0043                      Speaker lower repair iPhone 4   \n",
       "480    PIE0011                     Internal Battery for iPhone 3G   \n",
       "515    SEN0061  Sennheiser EZX 80 Handsfree iPhone iPad and iP...   \n",
       "518    SEV0026  Service installation RAM + HDD + SSD MacBook /...   \n",
       "525    SEV0024      Service installation RAM + HDD + SSD Mac mini   \n",
       "...        ...                                                ...   \n",
       "19312  REP0424                       Input repair Headphones iPad   \n",
       "19313  REP0421                     iPad charging connector repair   \n",
       "19314  REP0416                           iPad front camera repair   \n",
       "19315  REP0413                            repair rear camera iPad   \n",
       "19316  REP0407                                iPad battery repair   \n",
       "\n",
       "                                                    desc      price  \\\n",
       "362    Repair service including parts and labor for i...    499.004   \n",
       "480          Replacement AC Adapter for Apple iPhone 3G.     98.978   \n",
       "515    IPhone bluetooth headset with microphone iPad ...    649.891   \n",
       "518    RAM + HDD installation + SSD in your MacBook /...    599.918   \n",
       "525    installation RAM HDD + SSD + on your Mac mini ...    599.918   \n",
       "...                                                  ...        ...   \n",
       "19312  Repair service including parts and labor for iPad  6.999.003   \n",
       "19313  Repair service including parts and labor for iPad  6.999.003   \n",
       "19314  Repair service including parts and labor for iPad  6.999.003   \n",
       "19315  Repair service including parts and labor for iPad  6.999.003   \n",
       "19316  Repair service including parts and labor for iPad  6.999.003   \n",
       "\n",
       "      promo_price  in_stock      type  \n",
       "362       499.004         0  1,44E+11  \n",
       "480        98.978         0  21485407  \n",
       "515       649.891         0      5384  \n",
       "518       599.918         0  20642062  \n",
       "525       599.918         0  20642062  \n",
       "...           ...       ...       ...  \n",
       "19312       69.99         0  1,44E+11  \n",
       "19313       69.99         0  1,44E+11  \n",
       "19314       69.99         0  1,44E+11  \n",
       "19315       69.99         0  1,44E+11  \n",
       "19316       69.99         0  1,44E+11  \n",
       "\n",
       "[596 rows x 7 columns]"
      ]
     },
     "execution_count": 74,
     "metadata": {},
     "output_type": "execute_result"
    }
   ],
   "source": [
    "products.loc[products['price'].str[-4] == '.',:]"
   ]
  }
 ],
 "metadata": {
  "kernelspec": {
   "display_name": "Python 3 (ipykernel)",
   "language": "python",
   "name": "python3"
  },
  "language_info": {
   "codemirror_mode": {
    "name": "ipython",
    "version": 3
   },
   "file_extension": ".py",
   "mimetype": "text/x-python",
   "name": "python",
   "nbconvert_exporter": "python",
   "pygments_lexer": "ipython3",
   "version": "3.9.7"
  }
 },
 "nbformat": 4,
 "nbformat_minor": 5
}
